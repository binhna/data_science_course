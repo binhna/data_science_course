{
 "cells": [
  {
   "cell_type": "code",
   "execution_count": null,
   "metadata": {},
   "outputs": [],
   "source": [
    "from bs4 import BeautifulSoup\n",
    "import requests"
   ]
  },
  {
   "cell_type": "markdown",
   "metadata": {},
   "source": [
    "## Thực hành một số trang web khác\n",
    "Cách phân tích data từ 1 trang web dựa vào inspect và HTML tag<br>\n",
    "Tìm đối tượng muốn trích xuất thông tin<br>\n",
    "Tìm `href`, `class`, ..."
   ]
  },
  {
   "cell_type": "code",
   "execution_count": null,
   "metadata": {},
   "outputs": [],
   "source": [
    "headers = {\n",
    "    \"User-Agent\": \"Mozilla/5.0 (X11; Linux x86_64) \"\n",
    "    \"AppleWebKit/537.36 (KHTML, like Gecko) \"\n",
    "    \"Chrome/75.0.3770.80 Safari/537.36\"\n",
    "}\n",
    "res = requests.get(\"https://vietstock.vn/\", headers=headers)"
   ]
  },
  {
   "cell_type": "code",
   "execution_count": null,
   "metadata": {},
   "outputs": [
    {
     "data": {
      "text/plain": [
       "<Response [200]>"
      ]
     },
     "metadata": {},
     "output_type": "display_data"
    }
   ],
   "source": [
    "res"
   ]
  },
  {
   "cell_type": "code",
   "execution_count": null,
   "metadata": {},
   "outputs": [],
   "source": [
    "soup = BeautifulSoup(res.content, \"html.parser\")"
   ]
  },
  {
   "cell_type": "code",
   "execution_count": null,
   "metadata": {},
   "outputs": [],
   "source": [
    "news = soup.findAll(\"div\", {\"class\": \"single_post_text\"})"
   ]
  },
  {
   "cell_type": "code",
   "execution_count": null,
   "metadata": {},
   "outputs": [
    {
     "data": {
      "text/plain": [
       "94"
      ]
     },
     "metadata": {},
     "output_type": "display_data"
    }
   ],
   "source": [
    "len(news)"
   ]
  },
  {
   "cell_type": "code",
   "execution_count": null,
   "metadata": {},
   "outputs": [
    {
     "data": {
      "text/plain": [
       "'/2022/07/de-rong-cat-canh-761-984064.htm'"
      ]
     },
     "metadata": {},
     "output_type": "display_data"
    }
   ],
   "source": [
    "news[12].h4.a.attrs[\"href\"]"
   ]
  },
  {
   "cell_type": "code",
   "execution_count": null,
   "metadata": {},
   "outputs": [],
   "source": [
    "import urllib.parse"
   ]
  },
  {
   "cell_type": "code",
   "execution_count": null,
   "metadata": {},
   "outputs": [
    {
     "data": {
      "text/plain": [
       "'https://vietstock.vn/2022/07/de-rong-cat-canh-761-984064.htm'"
      ]
     },
     "metadata": {},
     "output_type": "display_data"
    }
   ],
   "source": [
    "sub_url = urllib.parse.urljoin(\"https://vietstock.vn/\", '/2022/07/de-rong-cat-canh-761-984064.htm')\n",
    "sub_url"
   ]
  },
  {
   "cell_type": "code",
   "execution_count": null,
   "metadata": {},
   "outputs": [],
   "source": [
    "sub_page_res = requests.get(sub_url, headers=headers)"
   ]
  },
  {
   "cell_type": "code",
   "execution_count": null,
   "metadata": {},
   "outputs": [
    {
     "data": {
      "text/plain": [
       "<Response [200]>"
      ]
     },
     "metadata": {},
     "output_type": "display_data"
    }
   ],
   "source": [
    "sub_page_res"
   ]
  },
  {
   "cell_type": "code",
   "execution_count": null,
   "metadata": {},
   "outputs": [],
   "source": [
    "sub_soup = BeautifulSoup(sub_page_res.content, \"html.parser\")"
   ]
  },
  {
   "cell_type": "code",
   "execution_count": null,
   "metadata": {},
   "outputs": [
    {
     "data": {
      "text/plain": [
       "'Trong tuần qua có một thông tin đáng chú ý: Trong khi Bộ Nông nghiệp và Phát triển nông thôn vẫn chưa triển khai Đề án sản xuất 1 triệu héc ta lúa chất lượng cao ở đồng bằng sông Cửu Long (ĐBSCL) thì tổng diện tích sản xuất giống lúa chất lượng cao ở đây trong vụ hè thu 2022 đã vượt con số 1 triệu héc ta.'"
      ]
     },
     "metadata": {},
     "output_type": "display_data"
    }
   ],
   "source": [
    "sub_soup.find(\"p\", {\"class\": \"pHead\"}).text"
   ]
  },
  {
   "cell_type": "code",
   "execution_count": null,
   "metadata": {},
   "outputs": [],
   "source": [
    "tags = sub_soup.find(\"div\", {\"class\": \"tags mt20\"})"
   ]
  },
  {
   "cell_type": "code",
   "execution_count": null,
   "metadata": {},
   "outputs": [
    {
     "data": {
      "text/plain": [
       "[<a href=\"/tag/Vùng-đất-9-rồng\">Vùng đất 9 rồng</a>,\n",
       " <a href=\"/tag/-Vùng-đất-rồng-cất-cánh\"> Vùng đất rồng cất cánh</a>,\n",
       " <a href=\"/tag/-Quy-hoạch-phát-triển-ĐBSCL\"> Quy hoạch phát triển ĐBSCL</a>]"
      ]
     },
     "metadata": {},
     "output_type": "display_data"
    }
   ],
   "source": [
    "tags.findAll(\"a\")"
   ]
  },
  {
   "cell_type": "markdown",
   "metadata": {},
   "source": [
    "## Selenium\n",
    "Install `selenium` bằng `pip install selenium`<br>\n",
    "Download webdriver (Chrome) nhưng phải cùng version với browser đang dùng"
   ]
  },
  {
   "cell_type": "code",
   "execution_count": 18,
   "metadata": {},
   "outputs": [
    {
     "name": "stderr",
     "output_type": "stream",
     "text": [
      "/var/folders/0l/dvl_p7qs4yx7y2v7plhbhd800000gn/T/ipykernel_7882/2884912774.py:3: DeprecationWarning: executable_path has been deprecated, please pass in a Service object\n",
      "  driver = webdriver.Chrome(executable_path='/Users/binhna/projects/resource/chromedriver')\n"
     ]
    },
    {
     "ename": "InvalidSelectorException",
     "evalue": "Message: invalid selector: Unable to locate an element with the xpath expression \\div[@class='form-field']/input[@name='username'] because of the following error:\nSyntaxError: Failed to execute 'evaluate' on 'Document': The string '\\div[@class='form-field']/input[@name='username']' is not a valid XPath expression.\n  (Session info: chrome=104.0.5112.79)\nStacktrace:\n0   chromedriver                        0x00000001006f1d60 chromedriver + 3792224\n1   chromedriver                        0x0000000100688874 chromedriver + 3360884\n2   chromedriver                        0x0000000100389184 chromedriver + 217476\n3   chromedriver                        0x000000010038bbb4 chromedriver + 228276\n4   chromedriver                        0x000000010038ba1c chromedriver + 227868\n5   chromedriver                        0x000000010038bc50 chromedriver + 228432\n6   chromedriver                        0x00000001003b8cbc chromedriver + 412860\n7   chromedriver                        0x00000001003e1b2c chromedriver + 580396\n8   chromedriver                        0x00000001003ae3e4 chromedriver + 369636\n9   chromedriver                        0x00000001006c7234 chromedriver + 3617332\n10  chromedriver                        0x00000001006cb6c4 chromedriver + 3634884\n11  chromedriver                        0x00000001006cfcb8 chromedriver + 3652792\n12  chromedriver                        0x00000001006cc15c chromedriver + 3637596\n13  chromedriver                        0x00000001006aa7f8 chromedriver + 3500024\n14  chromedriver                        0x00000001006e3c3c chromedriver + 3734588\n15  chromedriver                        0x00000001006e3da0 chromedriver + 3734944\n16  chromedriver                        0x00000001006f85a4 chromedriver + 3818916\n17  libsystem_pthread.dylib             0x00000001c40b026c _pthread_start + 148\n18  libsystem_pthread.dylib             0x00000001c40ab08c thread_start + 8\n",
     "output_type": "error",
     "traceback": [
      "\u001b[0;31m---------------------------------------------------------------------------\u001b[0m",
      "\u001b[0;31mInvalidSelectorException\u001b[0m                  Traceback (most recent call last)",
      "\u001b[1;32m/Users/binhna/projects/ds_course/03_data_collection.ipynb Cell 18\u001b[0m in \u001b[0;36m<cell line: 7>\u001b[0;34m()\u001b[0m\n\u001b[1;32m      <a href='vscode-notebook-cell:/Users/binhna/projects/ds_course/03_data_collection.ipynb#ch0000025?line=4'>5</a>\u001b[0m password \u001b[39m=\u001b[39m \u001b[39minput\u001b[39m()\n\u001b[1;32m      <a href='vscode-notebook-cell:/Users/binhna/projects/ds_course/03_data_collection.ipynb#ch0000025?line=5'>6</a>\u001b[0m driver\u001b[39m.\u001b[39mget(\u001b[39m\"\u001b[39m\u001b[39mhttps://trade.vndirect.com.vn/chung-khoan/danh-muc\u001b[39m\u001b[39m\"\u001b[39m)\n\u001b[0;32m----> <a href='vscode-notebook-cell:/Users/binhna/projects/ds_course/03_data_collection.ipynb#ch0000025?line=6'>7</a>\u001b[0m user_name \u001b[39m=\u001b[39m driver\u001b[39m.\u001b[39;49mfind_element(\u001b[39m\"\u001b[39;49m\u001b[39mxpath\u001b[39;49m\u001b[39m\"\u001b[39;49m, \u001b[39m\"\u001b[39;49m\u001b[39m\\\\\u001b[39;49;00m\u001b[39mdiv[@class=\u001b[39;49m\u001b[39m'\u001b[39;49m\u001b[39mform-field\u001b[39;49m\u001b[39m'\u001b[39;49m\u001b[39m]/input[@name=\u001b[39;49m\u001b[39m'\u001b[39;49m\u001b[39musername\u001b[39;49m\u001b[39m'\u001b[39;49m\u001b[39m]\u001b[39;49m\u001b[39m\"\u001b[39;49m)\n\u001b[1;32m      <a href='vscode-notebook-cell:/Users/binhna/projects/ds_course/03_data_collection.ipynb#ch0000025?line=7'>8</a>\u001b[0m user_name\u001b[39m.\u001b[39msend_keys(username)\n\u001b[1;32m      <a href='vscode-notebook-cell:/Users/binhna/projects/ds_course/03_data_collection.ipynb#ch0000025?line=8'>9</a>\u001b[0m pass_word \u001b[39m=\u001b[39m driver\u001b[39m.\u001b[39mfind_element(\u001b[39m\"\u001b[39m\u001b[39mxpath\u001b[39m\u001b[39m\"\u001b[39m, \u001b[39m\"\u001b[39m\u001b[39m\\\\\u001b[39;00m\u001b[39mdiv[@class=\u001b[39m\u001b[39m'\u001b[39m\u001b[39mform-field\u001b[39m\u001b[39m'\u001b[39m\u001b[39m]/input[@name=\u001b[39m\u001b[39m'\u001b[39m\u001b[39mpassword\u001b[39m\u001b[39m'\u001b[39m\u001b[39m]\u001b[39m\u001b[39m\"\u001b[39m)\n",
      "File \u001b[0;32m~/miniconda3/lib/python3.9/site-packages/selenium/webdriver/remote/webdriver.py:857\u001b[0m, in \u001b[0;36mWebDriver.find_element\u001b[0;34m(self, by, value)\u001b[0m\n\u001b[1;32m    854\u001b[0m     by \u001b[39m=\u001b[39m By\u001b[39m.\u001b[39mCSS_SELECTOR\n\u001b[1;32m    855\u001b[0m     value \u001b[39m=\u001b[39m \u001b[39m'\u001b[39m\u001b[39m[name=\u001b[39m\u001b[39m\"\u001b[39m\u001b[39m%s\u001b[39;00m\u001b[39m\"\u001b[39m\u001b[39m]\u001b[39m\u001b[39m'\u001b[39m \u001b[39m%\u001b[39m value\n\u001b[0;32m--> 857\u001b[0m \u001b[39mreturn\u001b[39;00m \u001b[39mself\u001b[39;49m\u001b[39m.\u001b[39;49mexecute(Command\u001b[39m.\u001b[39;49mFIND_ELEMENT, {\n\u001b[1;32m    858\u001b[0m     \u001b[39m'\u001b[39;49m\u001b[39musing\u001b[39;49m\u001b[39m'\u001b[39;49m: by,\n\u001b[1;32m    859\u001b[0m     \u001b[39m'\u001b[39;49m\u001b[39mvalue\u001b[39;49m\u001b[39m'\u001b[39;49m: value})[\u001b[39m'\u001b[39m\u001b[39mvalue\u001b[39m\u001b[39m'\u001b[39m]\n",
      "File \u001b[0;32m~/miniconda3/lib/python3.9/site-packages/selenium/webdriver/remote/webdriver.py:435\u001b[0m, in \u001b[0;36mWebDriver.execute\u001b[0;34m(self, driver_command, params)\u001b[0m\n\u001b[1;32m    433\u001b[0m response \u001b[39m=\u001b[39m \u001b[39mself\u001b[39m\u001b[39m.\u001b[39mcommand_executor\u001b[39m.\u001b[39mexecute(driver_command, params)\n\u001b[1;32m    434\u001b[0m \u001b[39mif\u001b[39;00m response:\n\u001b[0;32m--> 435\u001b[0m     \u001b[39mself\u001b[39;49m\u001b[39m.\u001b[39;49merror_handler\u001b[39m.\u001b[39;49mcheck_response(response)\n\u001b[1;32m    436\u001b[0m     response[\u001b[39m'\u001b[39m\u001b[39mvalue\u001b[39m\u001b[39m'\u001b[39m] \u001b[39m=\u001b[39m \u001b[39mself\u001b[39m\u001b[39m.\u001b[39m_unwrap_value(\n\u001b[1;32m    437\u001b[0m         response\u001b[39m.\u001b[39mget(\u001b[39m'\u001b[39m\u001b[39mvalue\u001b[39m\u001b[39m'\u001b[39m, \u001b[39mNone\u001b[39;00m))\n\u001b[1;32m    438\u001b[0m     \u001b[39mreturn\u001b[39;00m response\n",
      "File \u001b[0;32m~/miniconda3/lib/python3.9/site-packages/selenium/webdriver/remote/errorhandler.py:247\u001b[0m, in \u001b[0;36mErrorHandler.check_response\u001b[0;34m(self, response)\u001b[0m\n\u001b[1;32m    245\u001b[0m         alert_text \u001b[39m=\u001b[39m value[\u001b[39m'\u001b[39m\u001b[39malert\u001b[39m\u001b[39m'\u001b[39m]\u001b[39m.\u001b[39mget(\u001b[39m'\u001b[39m\u001b[39mtext\u001b[39m\u001b[39m'\u001b[39m)\n\u001b[1;32m    246\u001b[0m     \u001b[39mraise\u001b[39;00m exception_class(message, screen, stacktrace, alert_text)  \u001b[39m# type: ignore[call-arg]  # mypy is not smart enough here\u001b[39;00m\n\u001b[0;32m--> 247\u001b[0m \u001b[39mraise\u001b[39;00m exception_class(message, screen, stacktrace)\n",
      "\u001b[0;31mInvalidSelectorException\u001b[0m: Message: invalid selector: Unable to locate an element with the xpath expression \\div[@class='form-field']/input[@name='username'] because of the following error:\nSyntaxError: Failed to execute 'evaluate' on 'Document': The string '\\div[@class='form-field']/input[@name='username']' is not a valid XPath expression.\n  (Session info: chrome=104.0.5112.79)\nStacktrace:\n0   chromedriver                        0x00000001006f1d60 chromedriver + 3792224\n1   chromedriver                        0x0000000100688874 chromedriver + 3360884\n2   chromedriver                        0x0000000100389184 chromedriver + 217476\n3   chromedriver                        0x000000010038bbb4 chromedriver + 228276\n4   chromedriver                        0x000000010038ba1c chromedriver + 227868\n5   chromedriver                        0x000000010038bc50 chromedriver + 228432\n6   chromedriver                        0x00000001003b8cbc chromedriver + 412860\n7   chromedriver                        0x00000001003e1b2c chromedriver + 580396\n8   chromedriver                        0x00000001003ae3e4 chromedriver + 369636\n9   chromedriver                        0x00000001006c7234 chromedriver + 3617332\n10  chromedriver                        0x00000001006cb6c4 chromedriver + 3634884\n11  chromedriver                        0x00000001006cfcb8 chromedriver + 3652792\n12  chromedriver                        0x00000001006cc15c chromedriver + 3637596\n13  chromedriver                        0x00000001006aa7f8 chromedriver + 3500024\n14  chromedriver                        0x00000001006e3c3c chromedriver + 3734588\n15  chromedriver                        0x00000001006e3da0 chromedriver + 3734944\n16  chromedriver                        0x00000001006f85a4 chromedriver + 3818916\n17  libsystem_pthread.dylib             0x00000001c40b026c _pthread_start + 148\n18  libsystem_pthread.dylib             0x00000001c40ab08c thread_start + 8\n"
     ]
    }
   ],
   "source": [
    "from selenium import webdriver\n",
    "from selenium.webdriver.common.keys import Keys\n",
    "driver = webdriver.Chrome(executable_path='/Users/binhna/projects/resource/chromedriver')\n",
    "username = input()\n",
    "password = input()\n",
    "driver.get(\"https://trade.vndirect.com.vn/chung-khoan/danh-muc\")\n",
    "user_name = driver.find_element(\"xpath\", \"\\\\div[@class='form-field']/input[@name='username']\")\n",
    "user_name.send_keys(username)\n",
    "pass_word = driver.find_element(\"xpath\", \"\\\\div[@class='form-field']/input[@name='password']\")\n",
    "pass_word.send_keys(password)"
   ]
  },
  {
   "cell_type": "code",
   "execution_count": 17,
   "metadata": {},
   "outputs": [
    {
     "name": "stderr",
     "output_type": "stream",
     "text": [
      "/var/folders/0l/dvl_p7qs4yx7y2v7plhbhd800000gn/T/ipykernel_7882/567735100.py:5: DeprecationWarning: executable_path has been deprecated, please pass in a Service object\n",
      "  driver = webdriver.Chrome(executable_path='/Users/binhna/projects/resource/chromedriver')\n"
     ]
    }
   ],
   "source": [
    "from selenium import webdriver\n",
    "from selenium.webdriver.common.keys import Keys\n",
    "from selenium.webdriver.common.by import By\n",
    "\n",
    "driver = webdriver.Chrome(executable_path='/Users/binhna/projects/resource/chromedriver')\n",
    "driver.get(\"http://www.python.org\")\n",
    "assert \"Python\" in driver.title"
   ]
  },
  {
   "cell_type": "code",
   "execution_count": null,
   "metadata": {},
   "outputs": [],
   "source": []
  }
 ],
 "metadata": {
  "kernelspec": {
   "display_name": "Python 3.9.12 ('base')",
   "language": "python",
   "name": "python3"
  },
  "language_info": {
   "codemirror_mode": {
    "name": "ipython",
    "version": 3
   },
   "file_extension": ".py",
   "mimetype": "text/x-python",
   "name": "python",
   "nbconvert_exporter": "python",
   "pygments_lexer": "ipython3",
   "version": "3.9.12"
  },
  "orig_nbformat": 4,
  "vscode": {
   "interpreter": {
    "hash": "10f0bef7a88d6fdda57e7248e714756ff7da941887da7ed41d381ebb6aa3816a"
   }
  }
 },
 "nbformat": 4,
 "nbformat_minor": 2
}
